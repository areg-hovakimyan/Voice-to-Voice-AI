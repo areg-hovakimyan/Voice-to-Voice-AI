{
 "cells": [
  {
   "cell_type": "code",
   "execution_count": 1,
   "metadata": {},
   "outputs": [],
   "source": [
    "from modules.pdf_parser import parse_pdf_sections"
   ]
  },
  {
   "cell_type": "code",
   "execution_count": 2,
   "metadata": {},
   "outputs": [],
   "source": [
    "# Path to the uploaded PDF\n",
    "pdf_path = \"data/monopoly.pdf\"\n",
    "\n",
    "# Define sections (regex-based splitting)\n",
    "sections = {\n",
    "    \"Introduction\": r\"MONOPOLY Property Trading Game.*?Contents: (.*?) Now there's a faster way\",\n",
    "    \"Speed Die Rules\": r\"SPEED DIE RULES(.*?)CLASSIC MONOPOW RULES\",\n",
    "    \"Classic Rules\": r\"CLASSIC MONOPOW RULES(.*?)BUYING PROPERTY\",\n",
    "    \"Buying Property\": r\"BUYING PROPERTY(.*?)PAYING\",\n",
    "    \"Paying Rent\": r\"PAYING(.*?)CHANCE AND COMMUNITY CHEST\",\n",
    "    \"Chance & Community Chest\": r\"CHANCE AND COMMUNITY CHEST(.*?)INCOME TAX\",\n",
    "    \"Income Tax\": r\"INCOME TAX(.*?)JAIL\",\n",
    "    \"Jail Rules\": r\"JAIL(.*?)FREE PARKING\",\n",
    "    \"Free Parking\": r\"FREE PARKING(.*?)HOUSES\",\n",
    "    \"Building Houses\": r\"HOUSES(.*?)HOTELS\",\n",
    "    \"Hotels\": r\"HOTELS(.*?)BUILDING SHORTAGES\",\n",
    "    \"Building Shortages\": r\"BUILDING SHORTAGES(.*?)SELLING PROPERTY\",\n",
    "    \"Selling Property\": r\"SELLING PROPERTY(.*?)MORTGAGES\",\n",
    "    \"Mortgages\": r\"MORTGAGES(.*?)BANKRUPTCY\",\n",
    "    \"Bankruptcy\": r\"BANKRUPTCY(.*?)MISCELLANEOUS\",\n",
    "    \"Miscellaneous\": r\"MISCELLANEOUS(.*?)We will be happy\"\n",
    "}\n",
    "\n",
    "output_json_file = 'data_json/monopoly_rules.json'\n"
   ]
  },
  {
   "cell_type": "code",
   "execution_count": 3,
   "metadata": {},
   "outputs": [
    {
     "name": "stdout",
     "output_type": "stream",
     "text": [
      "✅ Parsed data saved to data_json/monopoly_rules.json\n"
     ]
    }
   ],
   "source": [
    "parse_pdf_sections(pdf_path, sections, output_json_file)"
   ]
  },
  {
   "cell_type": "code",
   "execution_count": 4,
   "metadata": {},
   "outputs": [],
   "source": [
    "from modules.text_processing import load_and_split_text"
   ]
  },
  {
   "cell_type": "code",
   "execution_count": 5,
   "metadata": {},
   "outputs": [
    {
     "name": "stdout",
     "output_type": "stream",
     "text": [
      "✅ Successfully split into 35 chunks!\n"
     ]
    }
   ],
   "source": [
    "chunks = load_and_split_text(output_json_file)"
   ]
  },
  {
   "cell_type": "code",
   "execution_count": 6,
   "metadata": {},
   "outputs": [
    {
     "name": "stderr",
     "output_type": "stream",
     "text": [
      "/Users/areghovakimyan/Desktop/Voice-to-Voice-AI/venv/lib/python3.13/site-packages/tqdm/auto.py:21: TqdmWarning: IProgress not found. Please update jupyter and ipywidgets. See https://ipywidgets.readthedocs.io/en/stable/user_install.html\n",
      "  from .autonotebook import tqdm as notebook_tqdm\n"
     ]
    }
   ],
   "source": [
    "from modules.chroma_db_handler import store_chunks_in_chromadb"
   ]
  },
  {
   "cell_type": "code",
   "execution_count": 7,
   "metadata": {},
   "outputs": [
    {
     "name": "stdout",
     "output_type": "stream",
     "text": [
      "✅ Successfully stored 35 chunks in ChromaDB!\n"
     ]
    }
   ],
   "source": [
    "store_chunks_in_chromadb(chunks)"
   ]
  },
  {
   "cell_type": "code",
   "execution_count": null,
   "metadata": {},
   "outputs": [],
   "source": []
  }
 ],
 "metadata": {
  "kernelspec": {
   "display_name": "venv",
   "language": "python",
   "name": "python3"
  },
  "language_info": {
   "codemirror_mode": {
    "name": "ipython",
    "version": 3
   },
   "file_extension": ".py",
   "mimetype": "text/x-python",
   "name": "python",
   "nbconvert_exporter": "python",
   "pygments_lexer": "ipython3",
   "version": "3.13.2"
  }
 },
 "nbformat": 4,
 "nbformat_minor": 2
}
