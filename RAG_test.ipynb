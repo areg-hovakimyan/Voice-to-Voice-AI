{
 "cells": [
  {
   "cell_type": "code",
   "execution_count": 1,
   "metadata": {},
   "outputs": [],
   "source": [
    "from modules.pdf_parser import parse_pdf_sections"
   ]
  },
  {
   "cell_type": "code",
   "execution_count": 2,
   "metadata": {},
   "outputs": [],
   "source": [
    "# Path to the uploaded PDF\n",
    "pdf_path = \"data/monopoly.pdf\"\n",
    "\n",
    "# Define sections (regex-based splitting)\n",
    "sections = {\n",
    "    \"Introduction\": r\"MONOPOLY Property Trading Game.*?Contents: (.*?) Now there's a faster way\",\n",
    "    \"Speed Die Rules\": r\"SPEED DIE RULES(.*?)CLASSIC MONOPOW RULES\",\n",
    "    \"Classic Rules\": r\"CLASSIC MONOPOW RULES(.*?)BUYING PROPERTY\",\n",
    "    \"Buying Property\": r\"BUYING PROPERTY(.*?)PAYING\",\n",
    "    \"Paying Rent\": r\"PAYING(.*?)CHANCE AND COMMUNITY CHEST\",\n",
    "    \"Chance & Community Chest\": r\"CHANCE AND COMMUNITY CHEST(.*?)INCOME TAX\",\n",
    "    \"Income Tax\": r\"INCOME TAX(.*?)JAIL\",\n",
    "    \"Jail Rules\": r\"JAIL(.*?)FREE PARKING\",\n",
    "    \"Free Parking\": r\"FREE PARKING(.*?)HOUSES\",\n",
    "    \"Building Houses\": r\"HOUSES(.*?)HOTELS\",\n",
    "    \"Hotels\": r\"HOTELS(.*?)BUILDING SHORTAGES\",\n",
    "    \"Building Shortages\": r\"BUILDING SHORTAGES(.*?)SELLING PROPERTY\",\n",
    "    \"Selling Property\": r\"SELLING PROPERTY(.*?)MORTGAGES\",\n",
    "    \"Mortgages\": r\"MORTGAGES(.*?)BANKRUPTCY\",\n",
    "    \"Bankruptcy\": r\"BANKRUPTCY(.*?)MISCELLANEOUS\",\n",
    "    \"Miscellaneous\": r\"MISCELLANEOUS(.*?)We will be happy\"\n",
    "}\n",
    "\n",
    "output_json_file = 'data_json/monopoly_rules.json'\n"
   ]
  },
  {
   "cell_type": "code",
   "execution_count": 3,
   "metadata": {},
   "outputs": [
    {
     "name": "stdout",
     "output_type": "stream",
     "text": [
      "✅ Parsed data saved to data_json/monopoly_rules.json\n"
     ]
    }
   ],
   "source": [
    "parse_pdf_sections(pdf_path, sections, output_json_file)"
   ]
  },
  {
   "cell_type": "code",
   "execution_count": 4,
   "metadata": {},
   "outputs": [],
   "source": [
    "from modules.text_processing import load_and_split_text"
   ]
  },
  {
   "cell_type": "code",
   "execution_count": 5,
   "metadata": {},
   "outputs": [
    {
     "name": "stdout",
     "output_type": "stream",
     "text": [
      "✅ Successfully split into 35 chunks!\n"
     ]
    }
   ],
   "source": [
    "chunks = load_and_split_text(output_json_file)"
   ]
  },
  {
   "cell_type": "code",
   "execution_count": 8,
   "metadata": {},
   "outputs": [],
   "source": [
    "from modules.chroma_db_handler import store_chunks_in_chromadb, query_chromadb"
   ]
  },
  {
   "cell_type": "code",
   "execution_count": 7,
   "metadata": {},
   "outputs": [
    {
     "name": "stderr",
     "output_type": "stream",
     "text": [
      "Insert of existing embedding ID: Speed Die Rules_0\n",
      "Add of existing embedding ID: Speed Die Rules_0\n",
      "Insert of existing embedding ID: Speed Die Rules_1\n",
      "Add of existing embedding ID: Speed Die Rules_1\n",
      "Insert of existing embedding ID: Speed Die Rules_2\n",
      "Add of existing embedding ID: Speed Die Rules_2\n",
      "Insert of existing embedding ID: Speed Die Rules_3\n",
      "Add of existing embedding ID: Speed Die Rules_3\n",
      "Insert of existing embedding ID: Speed Die Rules_4\n",
      "Add of existing embedding ID: Speed Die Rules_4\n",
      "Insert of existing embedding ID: Classic Rules_0\n",
      "Add of existing embedding ID: Classic Rules_0\n",
      "Insert of existing embedding ID: Classic Rules_1\n",
      "Add of existing embedding ID: Classic Rules_1\n",
      "Insert of existing embedding ID: Classic Rules_2\n",
      "Add of existing embedding ID: Classic Rules_2\n",
      "Insert of existing embedding ID: Classic Rules_3\n",
      "Add of existing embedding ID: Classic Rules_3\n",
      "Insert of existing embedding ID: Classic Rules_4\n",
      "Add of existing embedding ID: Classic Rules_4\n",
      "Insert of existing embedding ID: Classic Rules_5\n",
      "Add of existing embedding ID: Classic Rules_5\n",
      "Insert of existing embedding ID: Classic Rules_6\n",
      "Add of existing embedding ID: Classic Rules_6\n",
      "Insert of existing embedding ID: Income Tax_0\n",
      "Add of existing embedding ID: Income Tax_0\n",
      "Insert of existing embedding ID: Jail Rules_0\n",
      "Add of existing embedding ID: Jail Rules_0\n",
      "Insert of existing embedding ID: Jail Rules_1\n",
      "Add of existing embedding ID: Jail Rules_1\n",
      "Insert of existing embedding ID: Jail Rules_2\n",
      "Add of existing embedding ID: Jail Rules_2\n",
      "Insert of existing embedding ID: Jail Rules_3\n",
      "Add of existing embedding ID: Jail Rules_3\n",
      "Insert of existing embedding ID: Jail Rules_4\n",
      "Add of existing embedding ID: Jail Rules_4\n",
      "Insert of existing embedding ID: Jail Rules_5\n",
      "Add of existing embedding ID: Jail Rules_5\n",
      "Insert of existing embedding ID: Jail Rules_6\n",
      "Add of existing embedding ID: Jail Rules_6\n",
      "Insert of existing embedding ID: Jail Rules_7\n",
      "Add of existing embedding ID: Jail Rules_7\n",
      "Insert of existing embedding ID: Jail Rules_8\n",
      "Add of existing embedding ID: Jail Rules_8\n",
      "Insert of existing embedding ID: Jail Rules_9\n",
      "Add of existing embedding ID: Jail Rules_9\n",
      "Insert of existing embedding ID: Free Parking_0\n",
      "Add of existing embedding ID: Free Parking_0\n",
      "Insert of existing embedding ID: Building Houses_0\n",
      "Add of existing embedding ID: Building Houses_0\n",
      "Insert of existing embedding ID: Building Houses_1\n",
      "Add of existing embedding ID: Building Houses_1\n",
      "Insert of existing embedding ID: Building Houses_2\n",
      "Add of existing embedding ID: Building Houses_2\n",
      "Insert of existing embedding ID: Hotels_0\n",
      "Add of existing embedding ID: Hotels_0\n",
      "Insert of existing embedding ID: Selling Property_0\n",
      "Add of existing embedding ID: Selling Property_0\n",
      "Insert of existing embedding ID: Selling Property_1\n",
      "Add of existing embedding ID: Selling Property_1\n",
      "Insert of existing embedding ID: Selling Property_2\n",
      "Add of existing embedding ID: Selling Property_2\n",
      "Insert of existing embedding ID: Selling Property_3\n",
      "Add of existing embedding ID: Selling Property_3\n",
      "Insert of existing embedding ID: Mortgages_0\n",
      "Add of existing embedding ID: Mortgages_0\n",
      "Insert of existing embedding ID: Mortgages_1\n",
      "Add of existing embedding ID: Mortgages_1\n",
      "Insert of existing embedding ID: Mortgages_2\n",
      "Add of existing embedding ID: Mortgages_2\n"
     ]
    },
    {
     "name": "stdout",
     "output_type": "stream",
     "text": [
      "✅ Successfully stored 35 chunks in ChromaDB!\n"
     ]
    }
   ],
   "source": [
    "store_chunks_in_chromadb(chunks)"
   ]
  },
  {
   "cell_type": "code",
   "execution_count": 15,
   "metadata": {},
   "outputs": [
    {
     "data": {
      "text/plain": [
       "[{'id': 'Classic Rules_0',\n",
       "  'text': 'OBJECT: The object of the game IS to become the \\nwealthiest player through buying, renting and selling \\nproperty. \\nPREPARATION: Place the board on a table and put \\nthe Chance and Community Chest cards facedown on \\ntheir allotted spaces on the board. Each player chooses one token to \\nrepresent himther while traveling around the board. \\nEach player is given $1,500 divided as follows: P each of $500s, \\n$100~ and $50~; 6 $40~; 5 each of $105, $5~ and $Is. \\nAll remaining money and other equipment go to the Bank. Stack the ..',\n",
       "  'category': 'Classic Rules',\n",
       "  'score': 1.3078341480785878},\n",
       " {'id': 'Selling Property_2',\n",
       "  'text': 'for any amount the owner can get; however, no property can be sold to \\n- \\nanother player if buildings are standing on any properties of that color- \\ngroup. Any buildings so located must be sold back to the Bank before \\nthe owner can sell any property of that color-group. \\nHouses and hotels may be sold back to the Bank at any time for one- \\nhalf the price paid for them. \\nAll houses on one color-group must be sold one by one, evenly, in \\nreverse of the manner in which they were erected.',\n",
       "  'category': 'Selling Property',\n",
       "  'score': 1.44971862091887},\n",
       " {'id': 'Free Parking_0',\n",
       "  'text': '\": A player landing on this place does not \\nreceive any money, property or reward of any kind. This is just a \"free\" \\nresting place.',\n",
       "  'category': 'Free Parking',\n",
       "  'score': 1.4784727469515333},\n",
       " {'id': 'Building Houses_2',\n",
       "  'text': 'wery property of that group. You may then begin on the second row \\nof houses, and so on, up to a limit of four houses to a property. For \\nexample, you cannot build three houses on one property if you have \\nonly one house on another property of that group. \\nAs you build evenly, you must also break down evenly ifyou sell \\nhouses back to the Bank (see SELLING PROPERTY).',\n",
       "  'category': 'Building Houses',\n",
       "  'score': 1.4790352880606965},\n",
       " {'id': 'Mortgages_1',\n",
       "  'text': 'amount of the mortgage plus 10% interest. When all the propert~es of \\na color-group are no longer mortgaged, the owner may begin to buy \\nback houses at full price. \\nThe player who mortgages property retains possession of it and \\nno other player may secure it by lifting the mortgage from the Bank. \\nHowever, the owner may sell this mortgaged property to another player \\nat any agreed price. If you are the new owner, you may lift the mortgage \\nat once if you wish by paying off the mortgage plus \\n10% interest to the Bank. If the mortgage is not lifted',\n",
       "  'category': 'Mortgages',\n",
       "  'score': 1.5033834607373826}]"
      ]
     },
     "execution_count": 15,
     "metadata": {},
     "output_type": "execute_result"
    }
   ],
   "source": [
    "query_chromadb('How many people can play?')"
   ]
  },
  {
   "cell_type": "code",
   "execution_count": null,
   "metadata": {},
   "outputs": [],
   "source": []
  }
 ],
 "metadata": {
  "kernelspec": {
   "display_name": "venv3.11",
   "language": "python",
   "name": "python3"
  },
  "language_info": {
   "codemirror_mode": {
    "name": "ipython",
    "version": 3
   },
   "file_extension": ".py",
   "mimetype": "text/x-python",
   "name": "python",
   "nbconvert_exporter": "python",
   "pygments_lexer": "ipython3",
   "version": "3.11.11"
  }
 },
 "nbformat": 4,
 "nbformat_minor": 2
}
